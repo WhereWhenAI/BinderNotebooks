{
 "cells": [
  {
   "cell_type": "markdown",
   "id": "45f0ddfa-04df-4d6a-aa01-067fa9a2dd4b",
   "metadata": {},
   "source": [
    "# NavAbility Python SDK Tutorial\n",
    "\n",
    "Welcome the NavAbility Python tutorial\n",
    "\n",
    "[WIP] Below\n",
    "\n",
    "> NOTES:\n",
    "> The SDK doesn't work because GQL requires async calls. We need to find a way to wrap them to make it synchronous. REF: https://gql.readthedocs.io/en/latest/async/async_usage.html#async-usage"
   ]
  },
  {
   "cell_type": "markdown",
   "id": "68793740",
   "metadata": {},
   "source": [
    "## Installing the SDK\n",
    "\n",
    "You won't need to do this if you're running the JupyterHub example, but in the future you can add the NavAbilitySDK with the following command:\n",
    "\n",
    "```python\n",
    "pip install navabilitysdk\n",
    "```"
   ]
  },
  {
   "cell_type": "markdown",
   "id": "178b1aa1-d33c-406e-8e44-b75c4b4d6b32",
   "metadata": {},
   "source": [
    "## Example"
   ]
  },
  {
   "cell_type": "code",
   "execution_count": 77,
   "id": "6963f532-b8bc-453f-bbde-ffee93d579e1",
   "metadata": {},
   "outputs": [],
   "source": [
    "from navability.entities import *\n",
    "from navability.entities.navabilityclient import QueryOptions, MutationOptions\n",
    "import asyncio\n",
    "from time import sleep"
   ]
  },
  {
   "cell_type": "code",
   "execution_count": 89,
   "id": "8e41b7d3-9efb-41e4-94c2-83305eecd083",
   "metadata": {},
   "outputs": [],
   "source": [
    "class NavAbilityAsyncHttpsClient(NavAbilityClient):\n",
    "    def __init__(self, url: str = \"https://api.d1.navability.io\") -> None:\n",
    "        super().__init__()\n",
    "        transport = AIOHTTPTransport(url=url)\n",
    "        # self.client = GQLCLient(transport=transport, fetch_schema_from_transport=True)\n",
    "\n",
    "    async def _async_query(self, options: QueryOptions):\n",
    "        async with GQLCLient(transport=transport, fetch_schema_from_transport=False) as gql_client:\n",
    "\n",
    "            q = g(\"{USER { name}}\")\n",
    "\n",
    "            result = await gql_client.execute(q)\n",
    "            return result        \n",
    "\n",
    "    def query(self, options: QueryOptions):\n",
    "        # loop = asyncio.get_running_loop()\n",
    "        loop = asyncio.get_event_loop()\n",
    "        loop.run_until_complete(self._async_query(None))\n",
    "        # return asyncio.run_coroutine_threadsafe(self._async_query(None), loop).result(3)\n",
    "\n",
    "    \n",
    "    # while not task.done():\n",
    "        #     sleep(1)\n",
    "        # return task.result()\n",
    "        # return asyncio.get_event_loop().run_until_complete(self._async_query(None))\n",
    "\n",
    "    def mutate(self, options: MutationOptions):\n",
    "        return self.client.execute(options.mutation, options.variables)"
   ]
  },
  {
   "cell_type": "code",
   "execution_count": 90,
   "id": "26e7ed08-9656-4f14-9ce8-7179c058e82b",
   "metadata": {},
   "outputs": [
    {
     "ename": "RuntimeError",
     "evalue": "This event loop is already running",
     "output_type": "error",
     "traceback": [
      "\u001b[0;31m---------------------------------------------------------------------------\u001b[0m",
      "\u001b[0;31mRuntimeError\u001b[0m                              Traceback (most recent call last)",
      "Input \u001b[0;32mIn [90]\u001b[0m, in \u001b[0;36m<module>\u001b[0;34m\u001b[0m\n\u001b[1;32m      1\u001b[0m ass \u001b[38;5;241m=\u001b[39m NavAbilityAsyncHttpsClient()\n\u001b[0;32m----> 2\u001b[0m \u001b[43mass\u001b[49m\u001b[38;5;241;43m.\u001b[39;49m\u001b[43mquery\u001b[49m\u001b[43m(\u001b[49m\u001b[43mQueryOptions\u001b[49m\u001b[43m(\u001b[49m\u001b[38;5;124;43m\"\u001b[39;49m\u001b[38;5;124;43ma\u001b[39;49m\u001b[38;5;124;43m\"\u001b[39;49m\u001b[43m)\u001b[49m\u001b[43m)\u001b[49m\n",
      "Input \u001b[0;32mIn [89]\u001b[0m, in \u001b[0;36mNavAbilityAsyncHttpsClient.query\u001b[0;34m(self, options)\u001b[0m\n\u001b[1;32m     15\u001b[0m \u001b[38;5;28;01mdef\u001b[39;00m \u001b[38;5;21mquery\u001b[39m(\u001b[38;5;28mself\u001b[39m, options: QueryOptions):\n\u001b[1;32m     16\u001b[0m     \u001b[38;5;66;03m# loop = asyncio.get_running_loop()\u001b[39;00m\n\u001b[1;32m     17\u001b[0m     loop \u001b[38;5;241m=\u001b[39m asyncio\u001b[38;5;241m.\u001b[39mget_event_loop()\n\u001b[0;32m---> 18\u001b[0m     \u001b[43mloop\u001b[49m\u001b[38;5;241;43m.\u001b[39;49m\u001b[43mrun_until_complete\u001b[49m\u001b[43m(\u001b[49m\u001b[38;5;28;43mself\u001b[39;49m\u001b[38;5;241;43m.\u001b[39;49m\u001b[43m_async_query\u001b[49m\u001b[43m(\u001b[49m\u001b[38;5;28;43;01mNone\u001b[39;49;00m\u001b[43m)\u001b[49m\u001b[43m)\u001b[49m\n",
      "File \u001b[0;32m/usr/lib/python3.8/asyncio/base_events.py:592\u001b[0m, in \u001b[0;36mBaseEventLoop.run_until_complete\u001b[0;34m(self, future)\u001b[0m\n\u001b[1;32m    581\u001b[0m \u001b[38;5;124;03m\"\"\"Run until the Future is done.\u001b[39;00m\n\u001b[1;32m    582\u001b[0m \n\u001b[1;32m    583\u001b[0m \u001b[38;5;124;03mIf the argument is a coroutine, it is wrapped in a Task.\u001b[39;00m\n\u001b[0;32m   (...)\u001b[0m\n\u001b[1;32m    589\u001b[0m \u001b[38;5;124;03mReturn the Future's result, or raise its exception.\u001b[39;00m\n\u001b[1;32m    590\u001b[0m \u001b[38;5;124;03m\"\"\"\u001b[39;00m\n\u001b[1;32m    591\u001b[0m \u001b[38;5;28mself\u001b[39m\u001b[38;5;241m.\u001b[39m_check_closed()\n\u001b[0;32m--> 592\u001b[0m \u001b[38;5;28;43mself\u001b[39;49m\u001b[38;5;241;43m.\u001b[39;49m\u001b[43m_check_running\u001b[49m\u001b[43m(\u001b[49m\u001b[43m)\u001b[49m\n\u001b[1;32m    594\u001b[0m new_task \u001b[38;5;241m=\u001b[39m \u001b[38;5;129;01mnot\u001b[39;00m futures\u001b[38;5;241m.\u001b[39misfuture(future)\n\u001b[1;32m    595\u001b[0m future \u001b[38;5;241m=\u001b[39m tasks\u001b[38;5;241m.\u001b[39mensure_future(future, loop\u001b[38;5;241m=\u001b[39m\u001b[38;5;28mself\u001b[39m)\n",
      "File \u001b[0;32m/usr/lib/python3.8/asyncio/base_events.py:552\u001b[0m, in \u001b[0;36mBaseEventLoop._check_running\u001b[0;34m(self)\u001b[0m\n\u001b[1;32m    550\u001b[0m \u001b[38;5;28;01mdef\u001b[39;00m \u001b[38;5;21m_check_running\u001b[39m(\u001b[38;5;28mself\u001b[39m):\n\u001b[1;32m    551\u001b[0m     \u001b[38;5;28;01mif\u001b[39;00m \u001b[38;5;28mself\u001b[39m\u001b[38;5;241m.\u001b[39mis_running():\n\u001b[0;32m--> 552\u001b[0m         \u001b[38;5;28;01mraise\u001b[39;00m \u001b[38;5;167;01mRuntimeError\u001b[39;00m(\u001b[38;5;124m'\u001b[39m\u001b[38;5;124mThis event loop is already running\u001b[39m\u001b[38;5;124m'\u001b[39m)\n\u001b[1;32m    553\u001b[0m     \u001b[38;5;28;01mif\u001b[39;00m events\u001b[38;5;241m.\u001b[39m_get_running_loop() \u001b[38;5;129;01mis\u001b[39;00m \u001b[38;5;129;01mnot\u001b[39;00m \u001b[38;5;28;01mNone\u001b[39;00m:\n\u001b[1;32m    554\u001b[0m         \u001b[38;5;28;01mraise\u001b[39;00m \u001b[38;5;167;01mRuntimeError\u001b[39;00m(\n\u001b[1;32m    555\u001b[0m             \u001b[38;5;124m'\u001b[39m\u001b[38;5;124mCannot run the event loop while another loop is running\u001b[39m\u001b[38;5;124m'\u001b[39m)\n",
      "\u001b[0;31mRuntimeError\u001b[0m: This event loop is already running"
     ]
    }
   ],
   "source": [
    "ass = NavAbilityAsyncHttpsClient()\n",
    "ass.query(QueryOptions(\"a\"))"
   ]
  },
  {
   "cell_type": "code",
   "execution_count": 49,
   "id": "9ed501a8-9b15-400e-8383-74c974b40429",
   "metadata": {},
   "outputs": [
    {
     "name": "stdout",
     "output_type": "stream",
     "text": [
      "<Client(userId=Guest, robotId=GuestRobot, sessionId=DemoSession)>\n"
     ]
    },
    {
     "ename": "SyntaxError",
     "evalue": "'async with' outside async function (77395252.py, line 11)",
     "output_type": "error",
     "traceback": [
      "\u001b[0;36m  Input \u001b[0;32mIn [50]\u001b[0;36m\u001b[0m\n\u001b[0;31m    async with GQLCLient(transport=transport, fetch_schema_from_transport=False) as gql_client:\u001b[0m\n\u001b[0m    ^\u001b[0m\n\u001b[0;31mSyntaxError\u001b[0m\u001b[0;31m:\u001b[0m 'async with' outside async function\n"
     ]
    }
   ],
   "source": [
    "from gql.transport.aiohttp import AIOHTTPTransport\n",
    "from gql import gql as g\n",
    "from gql import Client as GQLCLient\n",
    "\n",
    "client = Client(userId='Guest', robotId='GuestRobot', sessionId='DemoSession')\n",
    "print(client)\n",
    "\n",
    "transport = AIOHTTPTransport(url=\"https://api.d1.navability.io\")\n",
    "\n",
    "async def query():\n",
    "    async with GQLCLient(transport=transport, fetch_schema_from_transport=False) as gql_client:\n",
    "\n",
    "        q = g(\"{USER { name}}\")\n",
    "\n",
    "        result = await gql_client.execute(q)\n",
    "        print(result)\n",
    "        return result\n",
    "    \n",
    "await query()"
   ]
  }
 ],
 "metadata": {
  "kernelspec": {
   "display_name": "Python 3 (ipykernel)",
   "language": "python",
   "name": "python3"
  },
  "language_info": {
   "codemirror_mode": {
    "name": "ipython",
    "version": 3
   },
   "file_extension": ".py",
   "mimetype": "text/x-python",
   "name": "python",
   "nbconvert_exporter": "python",
   "pygments_lexer": "ipython3",
   "version": "3.8.10"
  }
 },
 "nbformat": 4,
 "nbformat_minor": 5
}
