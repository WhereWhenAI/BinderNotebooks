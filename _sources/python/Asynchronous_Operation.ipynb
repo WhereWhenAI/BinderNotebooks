{
 "cells": [
  {
   "cell_type": "markdown",
   "id": "06b12f49-40ef-44e0-ad7a-1a856ded3d4a",
   "metadata": {},
   "source": [
    "# Asynchronous Operation Example"
   ]
  },
  {
   "cell_type": "code",
   "execution_count": 14,
   "id": "bf4db0c6-3d47-4a24-ae4f-88f68ced1fa5",
   "metadata": {},
   "outputs": [],
   "source": [
    "from navability.entities import (\n",
    "    Client,\n",
    "    Factor,\n",
    "    NavAbilityClient,\n",
    "    NavAbilityHttpsClient,\n",
    "    Pose2Pose2,\n",
    "    PriorPose2,\n",
    "    Variable,\n",
    "    VariableType,\n",
    ")\n",
    "from navability.services import addFactor, addVariable, solveSession, waitForCompletion, ls\n",
    "from uuid import uuid4\n",
    "\n",
    "import asyncio"
   ]
  },
  {
   "cell_type": "code",
   "execution_count": 15,
   "id": "1c7a1b22-9449-45bc-bb59-5c5a2c9b43e1",
   "metadata": {},
   "outputs": [],
   "source": [
    "navability_client = NavAbilityHttpsClient()\n",
    "client = Client(\"Guest\", \"PoC\", \"Session_\" + str(uuid4())[0:8])"
   ]
  },
  {
   "cell_type": "code",
   "execution_count": 19,
   "id": "5413469a-1f7b-4006-b46e-1a3d5eca26a8",
   "metadata": {},
   "outputs": [],
   "source": [
    "v = Variable(\"x0\", VariableType.Pose2.value)\n",
    "reqId = await addVariable(navability_client, client, v)\n",
    "await waitForCompletion(navability_client, [reqId])\n",
    "reqId"
   ]
  },
  {
   "cell_type": "code",
   "execution_count": 20,
   "id": "7ba99b95-300d-4ec0-99cf-45005c1bc78d",
   "metadata": {},
   "outputs": [
    {
     "data": {
      "text/plain": [
       "['x0']"
      ]
     },
     "execution_count": 20,
     "metadata": {},
     "output_type": "execute_result"
    }
   ],
   "source": [
    "await ls(navability_client, client)"
   ]
  }
 ],
 "metadata": {
  "kernelspec": {
   "display_name": "Python 3 (ipykernel)",
   "language": "python",
   "name": "python3"
  },
  "language_info": {
   "codemirror_mode": {
    "name": "ipython",
    "version": 3
   },
   "file_extension": ".py",
   "mimetype": "text/x-python",
   "name": "python",
   "nbconvert_exporter": "python",
   "pygments_lexer": "ipython3",
   "version": "3.8.12"
  }
 },
 "nbformat": 4,
 "nbformat_minor": 5
}
